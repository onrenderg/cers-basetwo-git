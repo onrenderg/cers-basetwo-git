{
 "cells": [
  {
   "cell_type": "markdown",
   "id": "intro",
   "metadata": {},
   "source": [
    "# Complete SQL Guide: Zero to Token Generation Expert\n",
    "\n",
    "**Perfect for absolute beginners!** This notebook takes you from knowing nothing about SQL to writing complex procedures like `mobile_bearer_token_get.sql`.\n",
    "\n",
    "**Learning Path:**\n",
    "1. Basic SQL commands\n",
    "2. Variables and data types\n",
    "3. Decision making (IF statements)\n",
    "4. Loops (WHILE)\n",
    "5. Random number generation\n",
    "6. Working with tables\n",
    "7. Creating procedures\n",
    "8. Building the token generation procedure\n",
    "\n",
    "**Start here even if you've never seen SQL before!**"
   ]
  },
  {
   "cell_type": "markdown",
   "id": "lesson1",
   "metadata": {},
   "source": [
    "## Lesson 1: Your First SQL Commands\n",
    "\n",
    "SQL is like talking to a database. Let's start with the most basic command: SELECT"
   ]
  },
  {
   "cell_type": "code",
   "execution_count": null,
   "id": "first-commands",
   "metadata": {
    "vscode": {
     "languageId": "sql"
    }
   },
   "outputs": [],
   "source": [
    "-- This is a comment (notes for humans, computer ignores it)\n",
    "-- Your first SQL command - show some text\n",
    "SELECT 'Hello, I am learning SQL!' AS MyMessage;\n",
    "\n",
    "-- Show numbers\n",
    "SELECT 42 AS MyFavoriteNumber;\n",
    "\n",
    "-- Show multiple things\n",
    "SELECT \n",
    "    'John' AS FirstName,\n",
    "    'Doe' AS LastName,\n",
    "    25 AS Age;\n",
    "\n",
    "-- Show current date and time\n",
    "SELECT GETDATE() AS RightNow;"
   ]
  },
  {
   "cell_type": "markdown",
   "id": "lesson2",
   "metadata": {},
   "source": [
    "## Lesson 2: Variables - Storing Information\n",
    "\n",
    "Variables are like boxes where you store information. You can put things in and take them out later."
   ]
  },
  {
   "cell_type": "code",
   "execution_count": null,
   "id": "variables",
   "metadata": {
    "vscode": {
     "languageId": "sql"
    }
   },
   "outputs": [],
   "source": [
    "-- Create a variable (a box) to store text\n",
    "DECLARE @MyName VARCHAR(50);\n",
    "\n",
    "-- Put something in the box\n",
    "SET @MyName = 'Alice';\n",
    "\n",
    "-- Show what's in the box\n",
    "SELECT @MyName AS StoredName;\n",
    "\n",
    "-- Different types of boxes for different types of information\n",
    "DECLARE @Age INT = 30;                    -- Whole numbers\n",
    "DECLARE @Salary DECIMAL(10,2) = 50000.75; -- Numbers with decimals\n",
    "DECLARE @IsMarried BIT = 1;               -- Yes/No (1=yes, 0=no)\n",
    "DECLARE @BirthDate DATE = '1993-05-15';   -- Dates\n",
    "\n",
    "-- Show everything\n",
    "SELECT \n",
    "    @MyName AS Name,\n",
    "    @Age AS Age,\n",
    "    @Salary AS Salary,\n",
    "    @IsMarried AS IsMarried,\n",
    "    @BirthDate AS BirthDate;"
   ]
  },
  {
   "cell_type": "markdown",
   "id": "lesson3",
   "metadata": {},
   "source": [
    "## Lesson 3: Basic Math and Text Operations\n",
    "\n",
    "Learn to do calculations and work with text."
   ]
  },
  {
   "cell_type": "code",
   "execution_count": null,
   "id": "math-text",
   "metadata": {
    "vscode": {
     "languageId": "sql"
    }
   },
   "outputs": [],
   "source": [
    "-- Basic math operations\n",
    "SELECT \n",
    "    5 + 3 AS Addition,\n",
    "    10 - 4 AS Subtraction,\n",
    "    6 * 7 AS Multiplication,\n",
    "    20 / 4 AS Division,\n",
    "    17 % 5 AS Remainder;  -- 17 ÷ 5 = 3 remainder 2\n",
    "\n",
    "-- Working with text\n",
    "DECLARE @FirstName VARCHAR(20) = 'John';\n",
    "DECLARE @LastName VARCHAR(20) = 'Smith';\n",
    "\n",
    "-- Join text together\n",
    "SELECT \n",
    "    @FirstName + ' ' + @LastName AS FullName,\n",
    "    'Hello ' + @FirstName + '!' AS Greeting;\n",
    "\n",
    "-- Useful text functions\n",
    "SELECT \n",
    "    LEN(@FirstName) AS NameLength,\n",
    "    UPPER(@FirstName) AS Uppercase,\n",
    "    LOWER(@FirstName) AS Lowercase,\n",
    "    SUBSTRING(@FirstName, 1, 2) AS FirstTwoLetters;"
   ]
  },
  {
   "cell_type": "markdown",
   "id": "lesson4",
   "metadata": {},
   "source": [
    "## Lesson 4: Making Decisions with IF\n",
    "\n",
    "Teach the computer to make decisions based on conditions."
   ]
  },
  {
   "cell_type": "code",
   "execution_count": null,
   "id": "if-statements",
   "metadata": {
    "vscode": {
     "languageId": "sql"
    }
   },
   "outputs": [],
   "source": [
    "-- Simple decision\n",
    "DECLARE @Age INT = 25;\n",
    "\n",
    "IF @Age >= 18\n",
    "BEGIN\n",
    "    SELECT 'You can vote!' AS Message;\n",
    "END\n",
    "ELSE\n",
    "BEGIN\n",
    "    SELECT 'Too young to vote' AS Message;\n",
    "END\n",
    "\n",
    "-- Multiple conditions\n",
    "DECLARE @Temperature INT = 75;\n",
    "DECLARE @Weather VARCHAR(20);\n",
    "\n",
    "IF @Temperature > 80\n",
    "    SET @Weather = 'Hot';\n",
    "ELSE IF @Temperature > 60\n",
    "    SET @Weather = 'Warm';\n",
    "ELSE IF @Temperature > 40\n",
    "    SET @Weather = 'Cool';\n",
    "ELSE\n",
    "    SET @Weather = 'Cold';\n",
    "\n",
    "SELECT @Temperature AS Temp, @Weather AS WeatherDescription;\n",
    "\n",
    "-- Check if something is empty\n",
    "DECLARE @UserInput VARCHAR(50) = '';\n",
    "\n",
    "IF @UserInput IS NULL OR @UserInput = ''\n",
    "    SELECT 'Please enter something!' AS Message;\n",
    "ELSE\n",
    "    SELECT 'You entered: ' + @UserInput AS Message;"
   ]
  },
  {
   "cell_type": "markdown",
   "id": "lesson5",
   "metadata": {},
   "source": [
    "## Lesson 5: Repeating Actions with WHILE Loops\n",
    "\n",
    "Make the computer repeat actions automatically."
   ]
  },
  {
   "cell_type": "code",
   "execution_count": null,
   "id": "while-loops",
   "metadata": {
    "vscode": {
     "languageId": "sql"
    }
   },
   "outputs": [],
   "source": [
    "-- Count from 1 to 5\n",
    "DECLARE @Counter INT = 1;\n",
    "\n",
    "WHILE @Counter <= 5\n",
    "BEGIN\n",
    "    SELECT @Counter AS Number;\n",
    "    SET @Counter = @Counter + 1;  -- IMPORTANT: Always increase the counter!\n",
    "END\n",
    "\n",
    "-- Build text by repeating\n",
    "DECLARE @Result VARCHAR(100) = '';\n",
    "DECLARE @i INT = 1;\n",
    "\n",
    "WHILE @i <= 4\n",
    "BEGIN\n",
    "    SET @Result = @Result + 'Step' + CAST(@i AS VARCHAR(10)) + ' ';\n",
    "    SET @i = @i + 1;\n",
    "END\n",
    "\n",
    "SELECT @Result AS BuildingText;\n",
    "\n",
    "-- Create a list of numbers\n",
    "DECLARE @NumberList VARCHAR(100) = '';\n",
    "DECLARE @Num INT = 1;\n",
    "\n",
    "WHILE @Num <= 10\n",
    "BEGIN\n",
    "    IF @Num = 1\n",
    "        SET @NumberList = CAST(@Num AS VARCHAR(10));\n",
    "    ELSE\n",
    "        SET @NumberList = @NumberList + ', ' + CAST(@Num AS VARCHAR(10));\n",
    "    \n",
    "    SET @Num = @Num + 1;\n",
    "END\n",
    "\n",
    "SELECT @NumberList AS Numbers1to10;"
   ]
  },
  {
   "cell_type": "markdown",
   "id": "lesson6",
   "metadata": {},
   "source": [
    "## Lesson 6: Random Numbers and Characters\n",
    "\n",
    "This is crucial for token generation! Learn to create random things."
   ]
  },
  {
   "cell_type": "code",
   "execution_count": null,
   "id": "random-numbers",
   "metadata": {
    "vscode": {
     "languageId": "sql"
    }
   },
   "outputs": [],
   "source": [
    "-- Generate random unique IDs\n",
    "SELECT NEWID() AS RandomID;\n",
    "\n",
    "-- Convert to numbers\n",
    "SELECT \n",
    "    CHECKSUM(NEWID()) AS RandomNumber,\n",
    "    ABS(CHECKSUM(NEWID())) AS PositiveNumber;\n",
    "\n",
    "-- Get numbers in a specific range (0-9)\n",
    "SELECT \n",
    "    ABS(CHECKSUM(NEWID())) % 10 AS Digit1,\n",
    "    ABS(CHECKSUM(NEWID())) % 10 AS Digit2,\n",
    "    ABS(CHECKSUM(NEWID())) % 10 AS Digit3;\n",
    "\n",
    "-- Pick random characters\n",
    "DECLARE @AllChars VARCHAR(62) = 'abcdefghijklmnopqrstuvwxyzABCDEFGHIJKLMNOPQRSTUVWXYZ0123456789';\n",
    "\n",
    "-- Pick one random character\n",
    "DECLARE @RandomPos INT = ABS(CHECKSUM(NEWID())) % LEN(@AllChars) + 1;\n",
    "DECLARE @RandomChar VARCHAR(1) = SUBSTRING(@AllChars, @RandomPos, 1);\n",
    "\n",
    "SELECT \n",
    "    @AllChars AS AvailableChars,\n",
    "    LEN(@AllChars) AS TotalChars,\n",
    "    @RandomPos AS ChosenPosition,\n",
    "    @RandomChar AS RandomCharacter;"
   ]
  },
  {
   "cell_type": "markdown",
   "id": "lesson7",
   "metadata": {},
   "source": [
    "## Lesson 7: Building Random Strings\n",
    "\n",
    "Combine loops with random character selection to create random strings (like passwords or tokens)."
   ]
  },
  {
   "cell_type": "code",
   "execution_count": null,
   "id": "random-strings",
   "metadata": {
    "vscode": {
     "languageId": "sql"
    }
   },
   "outputs": [],
   "source": [
    "-- Build a 6-character random string\n",
    "DECLARE @Chars VARCHAR(62) = 'abcdefghijklmnopqrstuvwxyzABCDEFGHIJKLMNOPQRSTUVWXYZ0123456789';\n",
    "DECLARE @RandomString VARCHAR(50) = '';\n",
    "DECLARE @i INT = 1;\n",
    "DECLARE @Length INT = 6;\n",
    "\n",
    "WHILE @i <= @Length\n",
    "BEGIN\n",
    "    -- Add one random character to our string\n",
    "    SET @RandomString = @RandomString + SUBSTRING(@Chars, ABS(CHECKSUM(NEWID())) % LEN(@Chars) + 1, 1);\n",
    "    SET @i = @i + 1;\n",
    "END\n",
    "\n",
    "SELECT @RandomString AS My6CharString;\n",
    "\n",
    "-- Create multiple random strings of different lengths\n",
    "DECLARE @String8 VARCHAR(50) = '';\n",
    "DECLARE @String16 VARCHAR(50) = '';\n",
    "DECLARE @String32 VARCHAR(50) = '';\n",
    "DECLARE @Counter INT;\n",
    "\n",
    "-- 8-character string\n",
    "SET @Counter = 1;\n",
    "WHILE @Counter <= 8\n",
    "BEGIN\n",
    "    SET @String8 = @String8 + SUBSTRING(@Chars, ABS(CHECKSUM(NEWID())) % LEN(@Chars) + 1, 1);\n",
    "    SET @Counter = @Counter + 1;\n",
    "END\n",
    "\n",
    "-- 16-character string\n",
    "SET @Counter = 1;\n",
    "WHILE @Counter <= 16\n",
    "BEGIN\n",
    "    SET @String16 = @String16 + SUBSTRING(@Chars, ABS(CHECKSUM(NEWID())) % LEN(@Chars) + 1, 1);\n",
    "    SET @Counter = @Counter + 1;\n",
    "END\n",
    "\n",
    "-- 32-character string (like in mobile_bearer_token_get)\n",
    "SET @Counter = 1;\n",
    "WHILE @Counter <= 32\n",
    "BEGIN\n",
    "    SET @String32 = @String32 + SUBSTRING(@Chars, ABS(CHECKSUM(NEWID())) % LEN(@Chars) + 1, 1);\n",
    "    SET @Counter = @Counter + 1;\n",
    "END\n",
    "\n",
    "SELECT \n",
    "    @String8 AS Token8Chars,\n",
    "    @String16 AS Token16Chars,\n",
    "    @String32 AS Token32Chars;"
   ]
  }
 ],
 "metadata": {
  "kernelspec": {
   "display_name": "SQL",
   "language": "sql",
   "name": "sql"
  },
  "language_info": {
   "file_extension": ".sql",
   "mimetype": "text/x-sql",
   "name": "sql",
   "version": "1.0"
  }
 },
 "nbformat": 4,
 "nbformat_minor": 5
}
